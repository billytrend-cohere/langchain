{
 "cells": [
  {
   "cell_type": "raw",
   "id": "afaf8039",
   "metadata": {},
   "source": [
    "---\n",
    "sidebar_label: Cohere\n",
    "---"
   ]
  },
  {
   "cell_type": "markdown",
   "id": "e49f1e0d",
   "metadata": {},
   "source": [
    "# Using Cohere Connectors For RAG\n",
    "\n",
    "This notebook covers how to get started with [Cohere connectors](https://docs.cohere.com/docs/connectors)\n",
    "\n",
    "## Installation"
   ]
  },
  {
   "cell_type": "code",
   "execution_count": null,
   "id": "4c3bef91",
   "metadata": {},
   "outputs": [],
   "source": [
    "# install package\n",
    "!pip install -U langchain-cohere langchain-core"
   ]
  },
  {
   "cell_type": "markdown",
   "id": "2b4f3e15",
   "metadata": {},
   "source": [
    "## Environment Setup\n",
    "\n",
    "Make sure to set the following environment variables:\n",
    "\n",
    "- TODO: fill out relevant environment variables or secrets\n",
    "\n",
    "## Usage"
   ]
  },
  {
   "cell_type": "code",
   "execution_count": null,
   "id": "9c5f9ad6",
   "metadata": {},
   "outputs": [],
   "source": [
    "from langchain_core.documents import Document\n",
    "from langchain_core.messages.human import HumanMessage\n",
    "from langchain_core.prompts.chat import (\n",
    "    ChatPromptTemplate,\n",
    "    MessagesPlaceholder,\n",
    ")\n",
    "from langchain_core.runnables import RunnablePassthrough\n",
    "from langchain_cohere.chat_models import ChatCohere"
   ]
  },
  {
   "cell_type": "code",
   "execution_count": null,
   "id": "761c3c08",
   "metadata": {},
   "outputs": [],
   "source": [
    "import os\n",
    "\n",
    "os.environ[\"COHERE_API_KEY\"] = \"API_KEY\"\n",
    "llm = ChatCohere(model_name=\"command-r\")"
   ]
  },
  {
   "cell_type": "code",
   "execution_count": null,
   "id": "a06ff7c0",
   "metadata": {},
   "outputs": [],
   "source": [
    "def get_connectors(_):\n",
    "    return [\"web-search\"]"
   ]
  },
  {
   "cell_type": "code",
   "execution_count": null,
   "id": "4d18e666",
   "metadata": {},
   "outputs": [],
   "source": [
    "def format_input_msgs(input):\n",
    "    return [\n",
    "        HumanMessage(\n",
    "            input[\"message\"],\n",
    "            additional_kwargs={\n",
    "                \"connectors\": input.get(\"connectors\", None),\n",
    "            },\n",
    "        )\n",
    "    ]\n",
    "\n",
    "prompt = ChatPromptTemplate.from_messages(\n",
    "    [\n",
    "        # (\"system\", \"You are a helpful assistant that ...\"),\n",
    "        MessagesPlaceholder(\"input_msgs\"),\n",
    "    ]\n",
    ")"
   ]
  },
  {
   "cell_type": "code",
   "execution_count": null,
   "id": "62e0dbc3",
   "metadata": {
    "tags": []
   },
   "outputs": [],
   "source": [
    "chain = (\n",
    "    {\"message\": RunnablePassthrough(), \"connectors\": get_connectors}\n",
    "    | RunnablePassthrough()\n",
    "    | {\"input_msgs\": format_input_msgs}\n",
    "    | prompt\n",
    "    | llm\n",
    ")"
   ]
  },
  {
   "cell_type": "code",
   "execution_count": null,
   "id": "1b9aadd8",
   "metadata": {},
   "outputs": [],
   "source": [
    "response = chain.invoke(\"What is today's movement of the AAPL ticker?\")\n",
    "print(response.content)"
   ]
  },
  {
   "cell_type": "markdown",
   "id": "ea2b4e82",
   "metadata": {},
   "source": [
    "## Printing results with citations"
   ]
  },
  {
   "cell_type": "code",
   "execution_count": 2,
   "id": "a502e5d0",
   "metadata": {},
   "outputs": [],
   "source": [
    "\"\"\"\n",
    "HELPER CODE FOR CITATIONS FORMATTING\n",
    "\"\"\"\n",
    "def insert_citations_in_order(text, citations, documents):\n",
    "    \"\"\"\n",
    "    A helper function to pretty print citations.\n",
    "    \"\"\"\n",
    "\n",
    "    citations_reference = {}\n",
    "    for index, doc in enumerate(documents):\n",
    "        citations_reference[index] = doc\n",
    "\n",
    "    offset = 0\n",
    "    # Process citations in the order they were provided\n",
    "    for citation in citations:\n",
    "        # Adjust start/end with offset\n",
    "        start, end = citation.start + offset, citation.end + offset\n",
    "        citation_numbers = []\n",
    "        for doc_id in citation.document_ids:\n",
    "            for citation_index, doc in citations_reference.items():\n",
    "                if doc[\"id\"] == doc_id:\n",
    "                    citation_numbers.append(citation_index)\n",
    "        references = \"(\" + \", \".join(\"[{}]\".format(num) for num in citation_numbers) + \")\"\n",
    "        modification = f'{text[start:end]} {references}'\n",
    "        # Replace the cited text with its bolded version + placeholder\n",
    "        text = text[:start] + modification + text[end:]\n",
    "        # Update the offset for subsequent replacements\n",
    "        offset += len(modification) - (end - start)\n",
    "\n",
    "    # Add the citations at the bottom of the text\n",
    "    text_with_citations = f'{text}'\n",
    "    citations_reference = [\"[{}]: {}\".format(x[\"id\"], x[\"snippet\"]) for x in citations_reference.values()]\n",
    "\n",
    "    return text_with_citations, \"\\n\".join(citations_reference)"
   ]
  },
  {
   "cell_type": "code",
   "execution_count": null,
   "id": "07b3cd80",
   "metadata": {},
   "outputs": [],
   "source": [
    "cited_response, citations_reference = insert_citations_in_order(response.content, response.response_metadata[\"citations\"], response.response_metadata[\"documents\"])\n",
    "print(cited_response)\n",
    "print(\"\\n\")\n",
    "print(\"References:\")\n",
    "print(citations_reference)"
   ]
  }
 ],
 "metadata": {
  "kernelspec": {
   "display_name": "Python 3 (ipykernel)",
   "language": "python",
   "name": "python3"
  },
  "language_info": {
   "codemirror_mode": {
    "name": "ipython",
    "version": 3
   },
   "file_extension": ".py",
   "mimetype": "text/x-python",
   "name": "python",
   "nbconvert_exporter": "python",
   "pygments_lexer": "ipython3",
   "version": "3.9.18"
  }
 },
 "nbformat": 4,
 "nbformat_minor": 5
}
